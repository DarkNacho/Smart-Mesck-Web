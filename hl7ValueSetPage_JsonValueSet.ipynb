{
 "cells": [
  {
   "cell_type": "code",
   "execution_count": 10,
   "metadata": {},
   "outputs": [],
   "source": [
    "import pandas as pd\n",
    "\n",
    "url = 'https://hl7.org/fhir/R4/valueset-practitioner-role.html'\n",
    "title= 'practitioner-role'\n",
    "tables = pd.read_html(url, attrs={\"class\": \"codes\"})\n",
    "codigo_table = tables[0]\n"
   ]
  },
  {
   "cell_type": "code",
   "execution_count": 11,
   "metadata": {},
   "outputs": [
    {
     "data": {
      "text/html": [
       "<div>\n",
       "<style scoped>\n",
       "    .dataframe tbody tr th:only-of-type {\n",
       "        vertical-align: middle;\n",
       "    }\n",
       "\n",
       "    .dataframe tbody tr th {\n",
       "        vertical-align: top;\n",
       "    }\n",
       "\n",
       "    .dataframe thead th {\n",
       "        text-align: right;\n",
       "    }\n",
       "</style>\n",
       "<table border=\"1\" class=\"dataframe\">\n",
       "  <thead>\n",
       "    <tr style=\"text-align: right;\">\n",
       "      <th></th>\n",
       "      <th>0</th>\n",
       "      <th>1</th>\n",
       "      <th>2</th>\n",
       "      <th>3</th>\n",
       "    </tr>\n",
       "  </thead>\n",
       "  <tbody>\n",
       "    <tr>\n",
       "      <th>0</th>\n",
       "      <td>Code</td>\n",
       "      <td>System</td>\n",
       "      <td>Display</td>\n",
       "      <td>Definition</td>\n",
       "    </tr>\n",
       "    <tr>\n",
       "      <th>1</th>\n",
       "      <td>doctor</td>\n",
       "      <td>http://terminology.hl7.org/CodeSystem/practiti...</td>\n",
       "      <td>Doctor</td>\n",
       "      <td>A qualified/registered medical practitioner</td>\n",
       "    </tr>\n",
       "    <tr>\n",
       "      <th>2</th>\n",
       "      <td>nurse</td>\n",
       "      <td>http://terminology.hl7.org/CodeSystem/practiti...</td>\n",
       "      <td>Nurse</td>\n",
       "      <td>A practitioner with nursing experience that ma...</td>\n",
       "    </tr>\n",
       "    <tr>\n",
       "      <th>3</th>\n",
       "      <td>pharmacist</td>\n",
       "      <td>http://terminology.hl7.org/CodeSystem/practiti...</td>\n",
       "      <td>Pharmacist</td>\n",
       "      <td>A qualified/registered/licensed pharmacist</td>\n",
       "    </tr>\n",
       "    <tr>\n",
       "      <th>4</th>\n",
       "      <td>researcher</td>\n",
       "      <td>http://terminology.hl7.org/CodeSystem/practiti...</td>\n",
       "      <td>Researcher</td>\n",
       "      <td>A practitioner that may perform research</td>\n",
       "    </tr>\n",
       "  </tbody>\n",
       "</table>\n",
       "</div>"
      ],
      "text/plain": [
       "            0                                                  1           2  \\\n",
       "0        Code                                             System     Display   \n",
       "1      doctor  http://terminology.hl7.org/CodeSystem/practiti...      Doctor   \n",
       "2       nurse  http://terminology.hl7.org/CodeSystem/practiti...       Nurse   \n",
       "3  pharmacist  http://terminology.hl7.org/CodeSystem/practiti...  Pharmacist   \n",
       "4  researcher  http://terminology.hl7.org/CodeSystem/practiti...  Researcher   \n",
       "\n",
       "                                                   3  \n",
       "0                                         Definition  \n",
       "1        A qualified/registered medical practitioner  \n",
       "2  A practitioner with nursing experience that ma...  \n",
       "3         A qualified/registered/licensed pharmacist  \n",
       "4           A practitioner that may perform research  "
      ]
     },
     "execution_count": 11,
     "metadata": {},
     "output_type": "execute_result"
    }
   ],
   "source": [
    "codigo_table.head()"
   ]
  },
  {
   "cell_type": "code",
   "execution_count": 12,
   "metadata": {},
   "outputs": [],
   "source": [
    "from pandas import DataFrame\n",
    "\n",
    "def convertir_a_valueset(tabla: DataFrame, uri: str, title: str):\n",
    "    value_set = {\n",
    "        \"resourceType\": \"ValueSet\",\n",
    "        \"id\": \"230\",\n",
    "        \"status\": \"active\",\n",
    "        \"url\": uri,\n",
    "        \"title\": title,\n",
    "        \"publisher\": \"Ignacio Martínez\",\n",
    "        \"compose\": {\n",
    "            \"include\": []\n",
    "        }\n",
    "    }\n",
    "    \n",
    "    sistemas = set()  # Conjunto para mantener un registro de los sistemas únicos\n",
    "    \n",
    "    # Iterar sobre cada fila de la tabla\n",
    "    for index, fila in tabla.iterrows():\n",
    "        code, system, display, definition = fila\n",
    "        \n",
    "        # Si hay más de un sistema, dividirlos y procesar individualmente\n",
    "        sistemas_lista = system.split(\",\")\n",
    "        \n",
    "        for sys in sistemas_lista:\n",
    "            sys = sys.strip()  # Eliminar espacios en blanco adicionales\n",
    "            \n",
    "            # Verificar si el sistema ya ha sido incluido\n",
    "            if sys not in sistemas:\n",
    "                concepto_sistema = {\n",
    "                    \"system\": sys,\n",
    "                    \"concept\": []\n",
    "                }\n",
    "                sistemas.add(sys)\n",
    "                value_set[\"compose\"][\"include\"].append(concepto_sistema)\n",
    "            else:\n",
    "                # Buscar el concepto existente en el sistema actual\n",
    "                concepto_sistema = next((s for s in value_set[\"compose\"][\"include\"] if s[\"system\"] == sys), None)\n",
    "            \n",
    "            # Agregar el concepto al sistema correspondiente\n",
    "            concept = {\n",
    "                \"code\": code,\n",
    "                \"display\": display\n",
    "            }\n",
    "            concepto_sistema[\"concept\"].append(concept)\n",
    "    \n",
    "    return value_set\n"
   ]
  },
  {
   "cell_type": "code",
   "execution_count": 13,
   "metadata": {},
   "outputs": [],
   "source": [
    "value_set_json = convertir_a_valueset(codigo_table, url, title)"
   ]
  },
  {
   "cell_type": "code",
   "execution_count": null,
   "metadata": {},
   "outputs": [],
   "source": [
    "import json\n",
    "print(json.dumps(value_set_json, indent=2))"
   ]
  },
  {
   "cell_type": "code",
   "execution_count": 19,
   "metadata": {},
   "outputs": [],
   "source": [
    "with open(f\"src/hl7-value-sets/{title}.json\", \"x\") as archivo:\n",
    "    json.dump(value_set_json, archivo, indent=2)"
   ]
  }
 ],
 "metadata": {
  "kernelspec": {
   "display_name": "Python 3",
   "language": "python",
   "name": "python3"
  },
  "language_info": {
   "codemirror_mode": {
    "name": "ipython",
    "version": 3
   },
   "file_extension": ".py",
   "mimetype": "text/x-python",
   "name": "python",
   "nbconvert_exporter": "python",
   "pygments_lexer": "ipython3",
   "version": "3.11.4"
  }
 },
 "nbformat": 4,
 "nbformat_minor": 2
}
